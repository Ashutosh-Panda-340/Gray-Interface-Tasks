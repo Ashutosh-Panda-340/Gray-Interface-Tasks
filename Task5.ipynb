{
  "nbformat": 4,
  "nbformat_minor": 0,
  "metadata": {
    "colab": {
      "provenance": [],
      "authorship_tag": "ABX9TyOP4j2yILNvGPWCK0AHudWx",
      "include_colab_link": true
    },
    "kernelspec": {
      "name": "python3",
      "display_name": "Python 3"
    },
    "language_info": {
      "name": "python"
    }
  },
  "cells": [
    {
      "cell_type": "markdown",
      "metadata": {
        "id": "view-in-github",
        "colab_type": "text"
      },
      "source": [
        "<a href=\"https://colab.research.google.com/github/HarshMartinTopno/Gray-Interface-Tasks/blob/H_Martin_T/Task5.ipynb\" target=\"_parent\"><img src=\"https://colab.research.google.com/assets/colab-badge.svg\" alt=\"Open In Colab\"/></a>"
      ]
    },
    {
      "cell_type": "markdown",
      "source": [
        "## Task 5"
      ],
      "metadata": {
        "id": "ysG3Bjv38bOF"
      }
    },
    {
      "cell_type": "code",
      "execution_count": null,
      "metadata": {
        "id": "_wq4T3-W66CG"
      },
      "outputs": [],
      "source": [
        "#How to get list of parameters name from a function in Python"
      ]
    },
    {
      "cell_type": "code",
      "source": [
        "def my_func(a,b,c,d):\n",
        "  pass"
      ],
      "metadata": {
        "id": "noEwGDpr9XpW"
      },
      "execution_count": null,
      "outputs": []
    },
    {
      "cell_type": "code",
      "source": [
        "import inspect"
      ],
      "metadata": {
        "id": "sqz8iW7i9l0h"
      },
      "execution_count": null,
      "outputs": []
    },
    {
      "cell_type": "code",
      "source": [
        "#to get the parameters list of an explicit function\n",
        "print(inspect.signature(my_func))"
      ],
      "metadata": {
        "colab": {
          "base_uri": "https://localhost:8080/"
        },
        "id": "9MzFd7zU92RT",
        "outputId": "d562b01b-d375-480c-d812-4d64f3ad7487"
      },
      "execution_count": null,
      "outputs": [
        {
          "output_type": "stream",
          "name": "stdout",
          "text": [
            "(a, b, c, d)\n"
          ]
        }
      ]
    },
    {
      "cell_type": "code",
      "source": [
        "#to get the parameters list of an in-built function\n",
        "print(inspect.signature(list))"
      ],
      "metadata": {
        "colab": {
          "base_uri": "https://localhost:8080/"
        },
        "id": "eqLYc_x696ms",
        "outputId": "6159bea8-c851-4410-e261-376b5ada695d"
      },
      "execution_count": null,
      "outputs": [
        {
          "output_type": "stream",
          "name": "stdout",
          "text": [
            "(iterable=(), /)\n"
          ]
        }
      ]
    },
    {
      "cell_type": "code",
      "source": [
        "#How to Print Multiple Arguments in Python?"
      ],
      "metadata": {
        "id": "Yncj7T3D-ZTE"
      },
      "execution_count": null,
      "outputs": []
    },
    {
      "cell_type": "code",
      "source": [
        "#for known number of arguments\n",
        "#there are multiple ways to this\n",
        "def my_func(argument1,argument2,argument3):\n",
        "  print(\"The arguments provided by the user are: {a}, {b}, {c}\".format(a = argument1, b = argument2, c = argument3))\n",
        "  #or we can use f-string\n",
        "  print(f\"The arguments provided by the user are: {argument1}, {argument2}, {argument3}\")"
      ],
      "metadata": {
        "id": "yPX16wwmBbuI"
      },
      "execution_count": null,
      "outputs": []
    },
    {
      "cell_type": "code",
      "source": [
        "my_func('Harsh Martin Topno', 18,\"CSE\")"
      ],
      "metadata": {
        "colab": {
          "base_uri": "https://localhost:8080/"
        },
        "id": "1LxMXJTkCijk",
        "outputId": "84482ab9-e140-4d89-92c1-3983b2a9f841"
      },
      "execution_count": null,
      "outputs": [
        {
          "output_type": "stream",
          "name": "stdout",
          "text": [
            "The arguments provided by the user are: Harsh Martin Topno, 18, CSE\n",
            "The arguments provided by the user are: Harsh Martin Topno, 18, CSE\n"
          ]
        }
      ]
    },
    {
      "cell_type": "code",
      "source": [
        "#for unknown number of arguments\n",
        "def func_to_print(*args):\n",
        "  print(\"The arguments given by the user are:\")\n",
        "  for i in args:\n",
        "    print(i)\n"
      ],
      "metadata": {
        "id": "k87f_1LH-_Xv"
      },
      "execution_count": null,
      "outputs": []
    },
    {
      "cell_type": "code",
      "source": [
        "func_to_print('Harsh Martin Topno', 18)"
      ],
      "metadata": {
        "colab": {
          "base_uri": "https://localhost:8080/"
        },
        "id": "7IxwyeHK_4Kt",
        "outputId": "4a7f821d-ce75-4d39-ccfb-96836a341c62"
      },
      "execution_count": null,
      "outputs": [
        {
          "output_type": "stream",
          "name": "stdout",
          "text": [
            "The arguments given by the user are:\n",
            "Harsh Martin Topno\n",
            "18\n"
          ]
        }
      ]
    },
    {
      "cell_type": "code",
      "source": [
        "#Python program to find the power of a number using recursion"
      ],
      "metadata": {
        "id": "SIWMR9TDAAWR"
      },
      "execution_count": null,
      "outputs": []
    },
    {
      "cell_type": "code",
      "source": [
        "def power(number,p):\n",
        "  if p == 0:\n",
        "    return 1\n",
        "  elif p > 0:\n",
        "    return (number * power(number,p-1))\n",
        "  else:\n",
        "    return (1/number * power(number,p+1))\n"
      ],
      "metadata": {
        "id": "QzF6jLO0DS11"
      },
      "execution_count": 17,
      "outputs": []
    },
    {
      "cell_type": "code",
      "source": [
        "power(6,9)"
      ],
      "metadata": {
        "colab": {
          "base_uri": "https://localhost:8080/"
        },
        "id": "LJDm757RKNQI",
        "outputId": "171e69f9-b9a0-4e21-f47c-61471084d014"
      },
      "execution_count": 13,
      "outputs": [
        {
          "output_type": "execute_result",
          "data": {
            "text/plain": [
              "10077696"
            ]
          },
          "metadata": {},
          "execution_count": 13
        }
      ]
    },
    {
      "cell_type": "code",
      "source": [
        "power(6,-5)"
      ],
      "metadata": {
        "id": "vqa0khDXKps2",
        "colab": {
          "base_uri": "https://localhost:8080/"
        },
        "outputId": "b2dab033-9ef8-4d74-e838-4faecb5b18de"
      },
      "execution_count": 19,
      "outputs": [
        {
          "output_type": "execute_result",
          "data": {
            "text/plain": [
              "0.00012860082304526747"
            ]
          },
          "metadata": {},
          "execution_count": 19
        }
      ]
    },
    {
      "cell_type": "code",
      "source": [],
      "metadata": {
        "id": "fMQbjcn5Njk8"
      },
      "execution_count": null,
      "outputs": []
    }
  ]
}