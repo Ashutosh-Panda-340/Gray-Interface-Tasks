{
  "nbformat": 4,
  "nbformat_minor": 0,
  "metadata": {
    "colab": {
      "provenance": [],
      "authorship_tag": "ABX9TyOFt4EJuXvP7lD+r5ugZBK2",
      "include_colab_link": true
    },
    "kernelspec": {
      "name": "python3",
      "display_name": "Python 3"
    },
    "language_info": {
      "name": "python"
    }
  },
  "cells": [
    {
      "cell_type": "markdown",
      "metadata": {
        "id": "view-in-github",
        "colab_type": "text"
      },
      "source": [
        "<a href=\"https://colab.research.google.com/github/HarshMartinTopno/Gray-Interface-Tasks/blob/H_Martin_T/Task5.ipynb\" target=\"_parent\"><img src=\"https://colab.research.google.com/assets/colab-badge.svg\" alt=\"Open In Colab\"/></a>"
      ]
    },
    {
      "cell_type": "markdown",
      "source": [
        "## Task 5"
      ],
      "metadata": {
        "id": "ysG3Bjv38bOF"
      }
    },
    {
      "cell_type": "code",
      "execution_count": null,
      "metadata": {
        "id": "_wq4T3-W66CG"
      },
      "outputs": [],
      "source": [
        "#How to get list of parameters name from a function in Python"
      ]
    },
    {
      "cell_type": "code",
      "source": [
        "def my_func(a,b,c,d):\n",
        "  pass"
      ],
      "metadata": {
        "id": "noEwGDpr9XpW"
      },
      "execution_count": 1,
      "outputs": []
    },
    {
      "cell_type": "code",
      "source": [
        "import inspect"
      ],
      "metadata": {
        "id": "sqz8iW7i9l0h"
      },
      "execution_count": 2,
      "outputs": []
    },
    {
      "cell_type": "code",
      "source": [
        "#to get the parameters list of a explicit function\n",
        "print(inspect.signature(my_func))"
      ],
      "metadata": {
        "colab": {
          "base_uri": "https://localhost:8080/"
        },
        "id": "9MzFd7zU92RT",
        "outputId": "d562b01b-d375-480c-d812-4d64f3ad7487"
      },
      "execution_count": 3,
      "outputs": [
        {
          "output_type": "stream",
          "name": "stdout",
          "text": [
            "(a, b, c, d)\n"
          ]
        }
      ]
    },
    {
      "cell_type": "code",
      "source": [
        "#to get the parameters list of a in-built function\n",
        "print(inspect.signature(list))"
      ],
      "metadata": {
        "colab": {
          "base_uri": "https://localhost:8080/"
        },
        "id": "eqLYc_x696ms",
        "outputId": "6159bea8-c851-4410-e261-376b5ada695d"
      },
      "execution_count": 7,
      "outputs": [
        {
          "output_type": "stream",
          "name": "stdout",
          "text": [
            "(iterable=(), /)\n"
          ]
        }
      ]
    },
    {
      "cell_type": "code",
      "source": [],
      "metadata": {
        "id": "Yncj7T3D-ZTE"
      },
      "execution_count": null,
      "outputs": []
    }
  ]
}