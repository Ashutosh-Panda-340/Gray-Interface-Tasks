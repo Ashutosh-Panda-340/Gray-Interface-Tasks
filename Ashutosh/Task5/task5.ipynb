{
 "cells": [
  {
   "cell_type": "code",
   "execution_count": 2,
   "metadata": {},
   "outputs": [],
   "source": [
    "import seaborn as sns"
   ]
  },
  {
   "cell_type": "code",
   "execution_count": 3,
   "metadata": {},
   "outputs": [],
   "source": [
    "import inspect"
   ]
  },
  {
   "cell_type": "markdown",
   "metadata": {},
   "source": [
    "## 1. To get the parameters"
   ]
  },
  {
   "cell_type": "code",
   "execution_count": 4,
   "metadata": {},
   "outputs": [],
   "source": [
    "params=inspect.signature(sns.countplot).parameters\n",
    "params=list(params)"
   ]
  },
  {
   "cell_type": "code",
   "execution_count": 5,
   "metadata": {},
   "outputs": [
    {
     "data": {
      "text/plain": [
       "['data',\n",
       " 'x',\n",
       " 'y',\n",
       " 'hue',\n",
       " 'order',\n",
       " 'hue_order',\n",
       " 'orient',\n",
       " 'color',\n",
       " 'palette',\n",
       " 'saturation',\n",
       " 'fill',\n",
       " 'hue_norm',\n",
       " 'stat',\n",
       " 'width',\n",
       " 'dodge',\n",
       " 'gap',\n",
       " 'log_scale',\n",
       " 'native_scale',\n",
       " 'formatter',\n",
       " 'legend',\n",
       " 'ax',\n",
       " 'kwargs']"
      ]
     },
     "execution_count": 5,
     "metadata": {},
     "output_type": "execute_result"
    }
   ],
   "source": [
    "params"
   ]
  },
  {
   "cell_type": "markdown",
   "metadata": {},
   "source": [
    "## 3. To print power of a number using recursion"
   ]
  },
  {
   "cell_type": "code",
   "execution_count": 6,
   "metadata": {},
   "outputs": [],
   "source": [
    "result=1"
   ]
  },
  {
   "cell_type": "code",
   "execution_count": 8,
   "metadata": {},
   "outputs": [],
   "source": [
    "def power(num,exp):\n",
    "    if exp==0:\n",
    "        return 1\n",
    "    return power(num,exp-1)*num"
   ]
  },
  {
   "cell_type": "code",
   "execution_count": 9,
   "metadata": {},
   "outputs": [
    {
     "data": {
      "text/plain": [
       "8"
      ]
     },
     "execution_count": 9,
     "metadata": {},
     "output_type": "execute_result"
    }
   ],
   "source": [
    "power(2,3)"
   ]
  },
  {
   "cell_type": "markdown",
   "metadata": {},
   "source": [
    "## 2. To print multiple arguments "
   ]
  },
  {
   "cell_type": "code",
   "execution_count": 14,
   "metadata": {},
   "outputs": [],
   "source": [
    "#To print the arguments passed to a function:\n",
    "def fun(*args,**kwargs):\n",
    "    #args=arguments (not in any order)\n",
    "    #kwargs=keyword arguments (in any order)\n",
    "    for arg in args:\n",
    "        print(f'arg: {arg}')\n",
    "    for key,arg in kwargs.items():\n",
    "        print(f'key: {key} arg: {arg}')"
   ]
  },
  {
   "cell_type": "code",
   "execution_count": 15,
   "metadata": {},
   "outputs": [
    {
     "name": "stdout",
     "output_type": "stream",
     "text": [
      "arg: 1\n",
      "arg: 2\n",
      "arg: 3\n",
      "key: a arg: 4\n",
      "key: c arg: 9\n",
      "key: b arg: 4\n"
     ]
    }
   ],
   "source": [
    "fun(1,2,3,a=4,c=9,b=4)"
   ]
  },
  {
   "cell_type": "code",
   "execution_count": null,
   "metadata": {},
   "outputs": [],
   "source": []
  }
 ],
 "metadata": {
  "kernelspec": {
   "display_name": "Python 3",
   "language": "python",
   "name": "python3"
  },
  "language_info": {
   "codemirror_mode": {
    "name": "ipython",
    "version": 3
   },
   "file_extension": ".py",
   "mimetype": "text/x-python",
   "name": "python",
   "nbconvert_exporter": "python",
   "pygments_lexer": "ipython3",
   "version": "3.12.2"
  }
 },
 "nbformat": 4,
 "nbformat_minor": 2
}
