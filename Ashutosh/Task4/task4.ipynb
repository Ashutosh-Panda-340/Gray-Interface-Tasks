{
 "cells": [
  {
   "cell_type": "code",
   "execution_count": 17,
   "metadata": {},
   "outputs": [],
   "source": [
    "import pandas as pd\n",
    "import numpy as np"
   ]
  },
  {
   "cell_type": "code",
   "execution_count": 18,
   "metadata": {},
   "outputs": [],
   "source": [
    "#df=pd.DataFrame(data=np.random.rand(10,3),columns=['Feature1','Feature2','Feature3'])\n",
    "#don't run it twice"
   ]
  },
  {
   "cell_type": "code",
   "execution_count": 19,
   "metadata": {},
   "outputs": [
    {
     "data": {
      "text/html": [
       "<div>\n",
       "<style scoped>\n",
       "    .dataframe tbody tr th:only-of-type {\n",
       "        vertical-align: middle;\n",
       "    }\n",
       "\n",
       "    .dataframe tbody tr th {\n",
       "        vertical-align: top;\n",
       "    }\n",
       "\n",
       "    .dataframe thead th {\n",
       "        text-align: right;\n",
       "    }\n",
       "</style>\n",
       "<table border=\"1\" class=\"dataframe\">\n",
       "  <thead>\n",
       "    <tr style=\"text-align: right;\">\n",
       "      <th></th>\n",
       "      <th>Feature1</th>\n",
       "      <th>Feature2</th>\n",
       "      <th>Feature3</th>\n",
       "    </tr>\n",
       "  </thead>\n",
       "  <tbody>\n",
       "    <tr>\n",
       "      <th>0</th>\n",
       "      <td>0.882603</td>\n",
       "      <td>0.191026</td>\n",
       "      <td>0.021996</td>\n",
       "    </tr>\n",
       "    <tr>\n",
       "      <th>1</th>\n",
       "      <td>0.679203</td>\n",
       "      <td>0.867745</td>\n",
       "      <td>0.866258</td>\n",
       "    </tr>\n",
       "    <tr>\n",
       "      <th>2</th>\n",
       "      <td>0.712027</td>\n",
       "      <td>0.502142</td>\n",
       "      <td>0.165822</td>\n",
       "    </tr>\n",
       "    <tr>\n",
       "      <th>3</th>\n",
       "      <td>0.873412</td>\n",
       "      <td>0.187734</td>\n",
       "      <td>0.552652</td>\n",
       "    </tr>\n",
       "    <tr>\n",
       "      <th>4</th>\n",
       "      <td>0.847340</td>\n",
       "      <td>0.962426</td>\n",
       "      <td>0.660890</td>\n",
       "    </tr>\n",
       "    <tr>\n",
       "      <th>5</th>\n",
       "      <td>0.213306</td>\n",
       "      <td>0.572916</td>\n",
       "      <td>0.505553</td>\n",
       "    </tr>\n",
       "    <tr>\n",
       "      <th>6</th>\n",
       "      <td>0.491513</td>\n",
       "      <td>0.283469</td>\n",
       "      <td>0.369442</td>\n",
       "    </tr>\n",
       "    <tr>\n",
       "      <th>7</th>\n",
       "      <td>0.579188</td>\n",
       "      <td>0.669197</td>\n",
       "      <td>0.259585</td>\n",
       "    </tr>\n",
       "    <tr>\n",
       "      <th>8</th>\n",
       "      <td>0.245683</td>\n",
       "      <td>0.173058</td>\n",
       "      <td>0.094537</td>\n",
       "    </tr>\n",
       "    <tr>\n",
       "      <th>9</th>\n",
       "      <td>0.631961</td>\n",
       "      <td>0.381867</td>\n",
       "      <td>0.832041</td>\n",
       "    </tr>\n",
       "  </tbody>\n",
       "</table>\n",
       "</div>"
      ],
      "text/plain": [
       "   Feature1  Feature2  Feature3\n",
       "0  0.882603  0.191026  0.021996\n",
       "1  0.679203  0.867745  0.866258\n",
       "2  0.712027  0.502142  0.165822\n",
       "3  0.873412  0.187734  0.552652\n",
       "4  0.847340  0.962426  0.660890\n",
       "5  0.213306  0.572916  0.505553\n",
       "6  0.491513  0.283469  0.369442\n",
       "7  0.579188  0.669197  0.259585\n",
       "8  0.245683  0.173058  0.094537\n",
       "9  0.631961  0.381867  0.832041"
      ]
     },
     "execution_count": 19,
     "metadata": {},
     "output_type": "execute_result"
    }
   ],
   "source": [
    "df"
   ]
  },
  {
   "cell_type": "code",
   "execution_count": 20,
   "metadata": {},
   "outputs": [
    {
     "data": {
      "text/plain": [
       "0    0.882603\n",
       "1    0.679203\n",
       "2    0.712027\n",
       "3    0.873412\n",
       "4    0.847340\n",
       "6    0.491513\n",
       "7    0.579188\n",
       "9    0.631961\n",
       "Name: Feature1, dtype: float64"
      ]
     },
     "execution_count": 20,
     "metadata": {},
     "output_type": "execute_result"
    }
   ],
   "source": [
    "#To split a column----we're splitting Feature1\n",
    "df[df['Feature1']>0.3]['Feature1']\n"
   ]
  },
  {
   "cell_type": "code",
   "execution_count": 21,
   "metadata": {},
   "outputs": [
    {
     "data": {
      "text/plain": [
       "Index([0, 1, 2, 3, 4, 6, 7, 9], dtype='int64')"
      ]
     },
     "execution_count": 21,
     "metadata": {},
     "output_type": "execute_result"
    }
   ],
   "source": [
    "#to return the index label\n",
    "df[df['Feature1']>0.3].index"
   ]
  },
  {
   "cell_type": "code",
   "execution_count": 35,
   "metadata": {},
   "outputs": [],
   "source": [
    "#to drop rows based on a certain condition\n",
    "index_of_rows_to_drop=df[df['Feature1']>0.7].index"
   ]
  },
  {
   "cell_type": "code",
   "execution_count": 36,
   "metadata": {},
   "outputs": [
    {
     "data": {
      "text/plain": [
       "Index([0, 2, 3, 4], dtype='int64')"
      ]
     },
     "execution_count": 36,
     "metadata": {},
     "output_type": "execute_result"
    }
   ],
   "source": [
    "index_of_rows_to_drop"
   ]
  },
  {
   "cell_type": "code",
   "execution_count": 37,
   "metadata": {},
   "outputs": [
    {
     "data": {
      "text/html": [
       "<div>\n",
       "<style scoped>\n",
       "    .dataframe tbody tr th:only-of-type {\n",
       "        vertical-align: middle;\n",
       "    }\n",
       "\n",
       "    .dataframe tbody tr th {\n",
       "        vertical-align: top;\n",
       "    }\n",
       "\n",
       "    .dataframe thead th {\n",
       "        text-align: right;\n",
       "    }\n",
       "</style>\n",
       "<table border=\"1\" class=\"dataframe\">\n",
       "  <thead>\n",
       "    <tr style=\"text-align: right;\">\n",
       "      <th></th>\n",
       "      <th>Feature1</th>\n",
       "      <th>Feature2</th>\n",
       "      <th>Feature3</th>\n",
       "    </tr>\n",
       "  </thead>\n",
       "  <tbody>\n",
       "    <tr>\n",
       "      <th>1</th>\n",
       "      <td>0.679203</td>\n",
       "      <td>0.867745</td>\n",
       "      <td>0.866258</td>\n",
       "    </tr>\n",
       "    <tr>\n",
       "      <th>5</th>\n",
       "      <td>0.213306</td>\n",
       "      <td>0.572916</td>\n",
       "      <td>0.505553</td>\n",
       "    </tr>\n",
       "    <tr>\n",
       "      <th>6</th>\n",
       "      <td>0.491513</td>\n",
       "      <td>0.283469</td>\n",
       "      <td>0.369442</td>\n",
       "    </tr>\n",
       "    <tr>\n",
       "      <th>7</th>\n",
       "      <td>0.579188</td>\n",
       "      <td>0.669197</td>\n",
       "      <td>0.259585</td>\n",
       "    </tr>\n",
       "    <tr>\n",
       "      <th>8</th>\n",
       "      <td>0.245683</td>\n",
       "      <td>0.173058</td>\n",
       "      <td>0.094537</td>\n",
       "    </tr>\n",
       "    <tr>\n",
       "      <th>9</th>\n",
       "      <td>0.631961</td>\n",
       "      <td>0.381867</td>\n",
       "      <td>0.832041</td>\n",
       "    </tr>\n",
       "  </tbody>\n",
       "</table>\n",
       "</div>"
      ],
      "text/plain": [
       "   Feature1  Feature2  Feature3\n",
       "1  0.679203  0.867745  0.866258\n",
       "5  0.213306  0.572916  0.505553\n",
       "6  0.491513  0.283469  0.369442\n",
       "7  0.579188  0.669197  0.259585\n",
       "8  0.245683  0.173058  0.094537\n",
       "9  0.631961  0.381867  0.832041"
      ]
     },
     "execution_count": 37,
     "metadata": {},
     "output_type": "execute_result"
    }
   ],
   "source": [
    "df.drop(index_of_rows_to_drop,axis=0)"
   ]
  },
  {
   "cell_type": "code",
   "execution_count": 38,
   "metadata": {},
   "outputs": [
    {
     "data": {
      "text/html": [
       "<div>\n",
       "<style scoped>\n",
       "    .dataframe tbody tr th:only-of-type {\n",
       "        vertical-align: middle;\n",
       "    }\n",
       "\n",
       "    .dataframe tbody tr th {\n",
       "        vertical-align: top;\n",
       "    }\n",
       "\n",
       "    .dataframe thead th {\n",
       "        text-align: right;\n",
       "    }\n",
       "</style>\n",
       "<table border=\"1\" class=\"dataframe\">\n",
       "  <thead>\n",
       "    <tr style=\"text-align: right;\">\n",
       "      <th></th>\n",
       "      <th>Feature1</th>\n",
       "      <th>Feature2</th>\n",
       "      <th>Feature3</th>\n",
       "    </tr>\n",
       "  </thead>\n",
       "  <tbody>\n",
       "    <tr>\n",
       "      <th>0</th>\n",
       "      <td>0.882603</td>\n",
       "      <td>0.191026</td>\n",
       "      <td>0.021996</td>\n",
       "    </tr>\n",
       "    <tr>\n",
       "      <th>1</th>\n",
       "      <td>0.679203</td>\n",
       "      <td>0.867745</td>\n",
       "      <td>0.866258</td>\n",
       "    </tr>\n",
       "    <tr>\n",
       "      <th>2</th>\n",
       "      <td>0.712027</td>\n",
       "      <td>0.502142</td>\n",
       "      <td>0.165822</td>\n",
       "    </tr>\n",
       "    <tr>\n",
       "      <th>3</th>\n",
       "      <td>0.873412</td>\n",
       "      <td>0.187734</td>\n",
       "      <td>0.552652</td>\n",
       "    </tr>\n",
       "    <tr>\n",
       "      <th>4</th>\n",
       "      <td>0.847340</td>\n",
       "      <td>0.962426</td>\n",
       "      <td>0.660890</td>\n",
       "    </tr>\n",
       "    <tr>\n",
       "      <th>5</th>\n",
       "      <td>0.213306</td>\n",
       "      <td>0.572916</td>\n",
       "      <td>0.505553</td>\n",
       "    </tr>\n",
       "    <tr>\n",
       "      <th>6</th>\n",
       "      <td>0.491513</td>\n",
       "      <td>0.283469</td>\n",
       "      <td>0.369442</td>\n",
       "    </tr>\n",
       "    <tr>\n",
       "      <th>7</th>\n",
       "      <td>0.579188</td>\n",
       "      <td>0.669197</td>\n",
       "      <td>0.259585</td>\n",
       "    </tr>\n",
       "    <tr>\n",
       "      <th>8</th>\n",
       "      <td>0.245683</td>\n",
       "      <td>0.173058</td>\n",
       "      <td>0.094537</td>\n",
       "    </tr>\n",
       "    <tr>\n",
       "      <th>9</th>\n",
       "      <td>0.631961</td>\n",
       "      <td>0.381867</td>\n",
       "      <td>0.832041</td>\n",
       "    </tr>\n",
       "  </tbody>\n",
       "</table>\n",
       "</div>"
      ],
      "text/plain": [
       "   Feature1  Feature2  Feature3\n",
       "0  0.882603  0.191026  0.021996\n",
       "1  0.679203  0.867745  0.866258\n",
       "2  0.712027  0.502142  0.165822\n",
       "3  0.873412  0.187734  0.552652\n",
       "4  0.847340  0.962426  0.660890\n",
       "5  0.213306  0.572916  0.505553\n",
       "6  0.491513  0.283469  0.369442\n",
       "7  0.579188  0.669197  0.259585\n",
       "8  0.245683  0.173058  0.094537\n",
       "9  0.631961  0.381867  0.832041"
      ]
     },
     "execution_count": 38,
     "metadata": {},
     "output_type": "execute_result"
    }
   ],
   "source": [
    "df1=df\n",
    "df1"
   ]
  },
  {
   "cell_type": "code",
   "execution_count": 41,
   "metadata": {},
   "outputs": [],
   "source": [
    "df1=df1.set_index('Feature1')"
   ]
  },
  {
   "cell_type": "code",
   "execution_count": 42,
   "metadata": {},
   "outputs": [
    {
     "data": {
      "text/html": [
       "<div>\n",
       "<style scoped>\n",
       "    .dataframe tbody tr th:only-of-type {\n",
       "        vertical-align: middle;\n",
       "    }\n",
       "\n",
       "    .dataframe tbody tr th {\n",
       "        vertical-align: top;\n",
       "    }\n",
       "\n",
       "    .dataframe thead th {\n",
       "        text-align: right;\n",
       "    }\n",
       "</style>\n",
       "<table border=\"1\" class=\"dataframe\">\n",
       "  <thead>\n",
       "    <tr style=\"text-align: right;\">\n",
       "      <th></th>\n",
       "      <th>Feature2</th>\n",
       "      <th>Feature3</th>\n",
       "    </tr>\n",
       "    <tr>\n",
       "      <th>Feature1</th>\n",
       "      <th></th>\n",
       "      <th></th>\n",
       "    </tr>\n",
       "  </thead>\n",
       "  <tbody>\n",
       "    <tr>\n",
       "      <th>0.882603</th>\n",
       "      <td>0.191026</td>\n",
       "      <td>0.021996</td>\n",
       "    </tr>\n",
       "    <tr>\n",
       "      <th>0.679203</th>\n",
       "      <td>0.867745</td>\n",
       "      <td>0.866258</td>\n",
       "    </tr>\n",
       "    <tr>\n",
       "      <th>0.712027</th>\n",
       "      <td>0.502142</td>\n",
       "      <td>0.165822</td>\n",
       "    </tr>\n",
       "    <tr>\n",
       "      <th>0.873412</th>\n",
       "      <td>0.187734</td>\n",
       "      <td>0.552652</td>\n",
       "    </tr>\n",
       "    <tr>\n",
       "      <th>0.847340</th>\n",
       "      <td>0.962426</td>\n",
       "      <td>0.660890</td>\n",
       "    </tr>\n",
       "    <tr>\n",
       "      <th>0.213306</th>\n",
       "      <td>0.572916</td>\n",
       "      <td>0.505553</td>\n",
       "    </tr>\n",
       "    <tr>\n",
       "      <th>0.491513</th>\n",
       "      <td>0.283469</td>\n",
       "      <td>0.369442</td>\n",
       "    </tr>\n",
       "    <tr>\n",
       "      <th>0.579188</th>\n",
       "      <td>0.669197</td>\n",
       "      <td>0.259585</td>\n",
       "    </tr>\n",
       "    <tr>\n",
       "      <th>0.245683</th>\n",
       "      <td>0.173058</td>\n",
       "      <td>0.094537</td>\n",
       "    </tr>\n",
       "    <tr>\n",
       "      <th>0.631961</th>\n",
       "      <td>0.381867</td>\n",
       "      <td>0.832041</td>\n",
       "    </tr>\n",
       "  </tbody>\n",
       "</table>\n",
       "</div>"
      ],
      "text/plain": [
       "          Feature2  Feature3\n",
       "Feature1                    \n",
       "0.882603  0.191026  0.021996\n",
       "0.679203  0.867745  0.866258\n",
       "0.712027  0.502142  0.165822\n",
       "0.873412  0.187734  0.552652\n",
       "0.847340  0.962426  0.660890\n",
       "0.213306  0.572916  0.505553\n",
       "0.491513  0.283469  0.369442\n",
       "0.579188  0.669197  0.259585\n",
       "0.245683  0.173058  0.094537\n",
       "0.631961  0.381867  0.832041"
      ]
     },
     "execution_count": 42,
     "metadata": {},
     "output_type": "execute_result"
    }
   ],
   "source": [
    "df1"
   ]
  },
  {
   "cell_type": "code",
   "execution_count": 44,
   "metadata": {},
   "outputs": [
    {
     "data": {
      "text/plain": [
       "Index([0.6792034245670601, 0.8473400423178544, 0.5791876689624775], dtype='float64', name='Feature1')"
      ]
     },
     "execution_count": 44,
     "metadata": {},
     "output_type": "execute_result"
    }
   ],
   "source": [
    "df1[df1['Feature2']>0.6].index"
   ]
  },
  {
   "cell_type": "code",
   "execution_count": null,
   "metadata": {},
   "outputs": [],
   "source": []
  }
 ],
 "metadata": {
  "kernelspec": {
   "display_name": "Python 3",
   "language": "python",
   "name": "python3"
  },
  "language_info": {
   "codemirror_mode": {
    "name": "ipython",
    "version": 3
   },
   "file_extension": ".py",
   "mimetype": "text/x-python",
   "name": "python",
   "nbconvert_exporter": "python",
   "pygments_lexer": "ipython3",
   "version": "3.12.2"
  }
 },
 "nbformat": 4,
 "nbformat_minor": 2
}
